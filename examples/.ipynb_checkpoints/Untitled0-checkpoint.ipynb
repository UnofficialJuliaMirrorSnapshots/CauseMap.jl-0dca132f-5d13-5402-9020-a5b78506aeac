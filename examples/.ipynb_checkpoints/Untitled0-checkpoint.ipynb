{
 "metadata": {
  "language": "Julia",
  "name": "",
  "signature": "sha256:e189de297574fd126bacbab277c2ec6cbc6e48a565fcb8e49759671ab5b52a8e"
 },
 "nbformat": 3,
 "nbformat_minor": 0,
 "worksheets": [
  {
   "cells": [
    {
     "cell_type": "code",
     "collapsed": false,
     "input": [
      "E_vals     = 2:10  # range to test of system dimensionality\n",
      "tau_s_vals = 1:1 # range for lag length for manifold reconstruction\n",
      "tau_p_vals = 0:15  # range to test for time lag of causal effect\n",
      "\n",
      "ds   = readdlm(\"vr.raw_fixed.txt\", '\\t', Float64, header=false)  # read in data\n",
      "para = ds[:, 2]\n",
      "didi = ds[:, 3]"
     ],
     "language": "python",
     "metadata": {},
     "outputs": [
      {
       "metadata": {},
       "output_type": "pyout",
       "prompt_number": 1,
       "text": [
        "71-element Array{Float64,1}:\n",
        "   5.76\n",
        "   9.05\n",
        "  17.26\n",
        "  41.97\n",
        "  55.97\n",
        "  74.91\n",
        "  62.52\n",
        "  27.04\n",
        "  18.77\n",
        "  31.11\n",
        "  58.31\n",
        "  73.13\n",
        "  63.21\n",
        "   \u22ee   \n",
        "  55.5 \n",
        "  93.41\n",
        " 117.3 \n",
        "  95.02\n",
        "  85.92\n",
        "  82.6 \n",
        "  66.08\n",
        "  63.58\n",
        "  37.99\n",
        "  25.6 \n",
        "  23.1 \n",
        "  37.09"
       ]
      }
     ],
     "prompt_number": 1
    },
    {
     "cell_type": "code",
     "collapsed": false,
     "input": [
      "para = para[1:2:end]\n",
      "didi = didi[1:2:end]"
     ],
     "language": "python",
     "metadata": {},
     "outputs": [
      {
       "metadata": {},
       "output_type": "pyout",
       "prompt_number": 4,
       "text": [
        "36-element Array{Float64,1}:\n",
        "   5.76\n",
        "  17.26\n",
        "  55.97\n",
        "  62.52\n",
        "  18.77\n",
        "  58.31\n",
        "  63.21\n",
        "  40.07\n",
        "  26.0 \n",
        "  21.0 \n",
        "  64.67\n",
        " 103.4 \n",
        "  65.4 \n",
        "   \u22ee   \n",
        "  17.82\n",
        "  65.61\n",
        "  96.07\n",
        "  54.79\n",
        "  32.48\n",
        "  35.73\n",
        "  93.41\n",
        "  95.02\n",
        "  82.6 \n",
        "  63.58\n",
        "  25.6 \n",
        "  37.09"
       ]
      }
     ],
     "prompt_number": 4
    },
    {
     "cell_type": "code",
     "collapsed": false,
     "input": [
      "using CauseMap\n",
      "nboots=20\n",
      "makeoptimizationplots(para, didi, 8, 36, E_vals, \n",
      "tau_s_vals, tau_p_vals, 36, 1, 'Para', 'Didi',\n",
      "            nboots=nboots)"
     ],
     "language": "python",
     "metadata": {},
     "outputs": [
      {
       "ename": "LoadError",
       "evalue": "`makeoptimizationplots` has no method matching makeoptimizationplots(::Array{Float64,1}, ::Array{Float64,1}, ::Int64, ::Int64, ::UnitRange{Int64}, ::UnitRange{Int64}, ::UnitRange{Int64}, ::Int64, ::Int64)\nwhile loading In[7], in expression starting on line 3",
       "output_type": "pyerr",
       "traceback": [
        "`makeoptimizationplots` has no method matching makeoptimizationplots(::Array{Float64,1}, ::Array{Float64,1}, ::Int64, ::Int64, ::UnitRange{Int64}, ::UnitRange{Int64}, ::UnitRange{Int64}, ::Int64, ::Int64)\nwhile loading In[7], in expression starting on line 3"
       ]
      }
     ],
     "prompt_number": 7
    },
    {
     "cell_type": "code",
     "collapsed": false,
     "input": [],
     "language": "python",
     "metadata": {},
     "outputs": []
    }
   ],
   "metadata": {}
  }
 ]
}